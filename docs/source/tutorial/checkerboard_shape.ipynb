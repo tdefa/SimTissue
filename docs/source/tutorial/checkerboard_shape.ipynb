{
 "cells": [
  {
   "cell_type": "markdown",
   "metadata": {},
   "source": [
    "# Tutorial to generate checkerbord cell simulation with an artbitray expression"
   ]
  },
  {
   "cell_type": "code",
   "execution_count": 1,
   "metadata": {},
   "source": [
    "import numpy as np\n",
    "from matplotlib import pyplot as plt\n",
    "from scipy import ndimage as ndi\n",
    "import skimage\n",
    "from sklearn.utils.random import sample_without_replacement\n",
    "from scipy.sparse import csr_array"
   ],
   "outputs": []
  },
  {
   "cell_type": "code",
   "execution_count": 2,
   "metadata": {},
   "source": [
    "import sys\n",
    "\n",
    "\n",
    "import simtissue\n",
    "from simtissue.arbitrary_shape import checkerboard_mask, generate_ellipse, add_sphere_nuclei\n",
    "\n",
    "from simtissue.plot import plot_contour\n",
    "from simtissue.control_expression import create_fix_profile, simulate_arbritrary_expression\n",
    "from simtissue.utils import get_dict_coord_map"
   ],
   "outputs": []
  },
  {
   "cell_type": "markdown",
   "metadata": {},
   "source": [
    "### generate checkerboard "
   ]
  },
  {
   "cell_type": "code",
   "execution_count": 3,
   "metadata": {},
   "source": [
    "mask_cyto = checkerboard_mask(shape = [1, 1000, 1100],\n",
    "                         cube_square_size = 100)\n",
    "plot_contour(mask_cyto = mask_cyto, figsize = (5,5))"
   ],
   "outputs": []
  },
  {
   "cell_type": "markdown",
   "metadata": {},
   "source": [
    "### add nuclei in the checcker board"
   ]
  },
  {
   "cell_type": "code",
   "execution_count": 5,
   "metadata": {
    "scrolled": false
   },
   "source": [
    "\n",
    "## leave 20% of the cells without cytoplasm\n",
    "list_nuclei_unique = np.unique(mask_cyto)\n",
    "index  = sample_without_replacement(len(list_nuclei_unique), int(0.80 * len(list_nuclei_unique)))\n",
    "list_nuclei = list_nuclei_unique[index]\n",
    "mask_nuclei = add_sphere_nuclei(mask_cyto = mask_cyto, \n",
    "                     cube_square_size  = 100,\n",
    "                     nuclei_radius = 25,\n",
    "                     list_nuclei = list_nuclei)\n",
    "\n",
    "plot_contour(mask_cyto = mask_cyto, mask_nuclei = mask_nuclei, figsize = (5,5))\n"
   ],
   "outputs": []
  },
  {
   "cell_type": "markdown",
   "metadata": {},
   "source": [
    "### simulation of arbitrary cell expression\n",
    "\n",
    "-we fisrt simulate a cell-expression matrix containing the expression profile we want to map in the checkerboard"
   ]
  },
  {
   "cell_type": "code",
   "execution_count": 7,
   "metadata": {},
   "source": [
    "### generate_anndata\n",
    "\n",
    "\n",
    "cell_index_typeA = [i for i in range(1, 111) if i % 2 == 0]\n",
    "cell_index_typeB = [i for i in range(1, 111) if i % 2 == 1]\n",
    "\n",
    "dict_profile = {'typeA': [50, 0],\n",
    "                  'typeB': [0, 200]\n",
    "             }\n",
    "cell_type_distribution={'typeA': cell_index_typeA,\n",
    "                        'typeB': cell_index_typeB,}\n",
    "\n",
    "genes_list_to_simulate = ['A', 'B']\n",
    "image_name = \"image0\"\n",
    "\n",
    "anndata = simulate_arbritrary_expression(dict_profile,\n",
    "                  cell_type_distribution,\n",
    "                                         mask_cyto = mask_cyto,\n",
    "        genes_list_to_simulate = ['A', 'B'],\n",
    "        image_name = \"image0\"\n",
    "        )\n",
    "anndata"
   ],
   "outputs": []
  },
  {
   "cell_type": "markdown",
   "metadata": {},
   "source": [
    "#### plot of final simulation"
   ]
  },
  {
   "cell_type": "code",
   "execution_count": 8,
   "metadata": {
    "scrolled": false
   },
   "source": [
    "plot_contour(mask_cyto = mask_cyto,\n",
    "                 mask_nuclei = mask_nuclei,\n",
    "                 figsize = (15,15),\n",
    "                anndata = anndata,\n",
    "                dico_color = {\"A\" : \"r\", \"B\": \"b\"},\n",
    "                spot_size = 3)"
   ],
   "outputs": []
  }
 ],
 "metadata": {
  "kernelspec": {
   "display_name": "simulation",
   "language": "python",
   "name": "simulation"
  },
  "language_info": {
   "codemirror_mode": {
    "name": "ipython",
    "version": 3
   },
   "file_extension": ".py",
   "mimetype": "text/x-python",
   "name": "python",
   "nbconvert_exporter": "python",
   "pygments_lexer": "ipython3",
   "version": "3.8.8"
  }
 },
 "nbformat": 4,
 "nbformat_minor": 4
}
