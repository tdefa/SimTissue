{
 "cells": [
  {
   "cell_type": "markdown",
   "metadata": {},
   "source": [
    "# Tutorial to generate checkerbord cell simulation with an artbitray expression"
   ]
  },
  {
   "cell_type": "code",
   "execution_count": 13,
   "metadata": {},
   "source": [
    "import numpy as np\n",
    "from matplotlib import pyplot as plt\n",
    "from scipy import ndimage as ndi\n",
    "import skimage\n",
    "from sklearn.utils.random import sample_without_replacement\n",
    "from scipy.sparse import csr_array"
   ],
   "outputs": []
  },
  {
   "cell_type": "code",
   "execution_count": 14,
   "metadata": {},
   "source": [
    "import sys\n",
    "\n",
    "\n",
    "import simtissue\n",
    "from simtissue.arbitrary_shape import checkerboard_mask, generate_ellipse, add_sphere_nuclei\n",
    "\n",
    "from simtissue.plot import plot_contour\n",
    "from simtissue.control_expression import create_fix_profile, simulate_arbritrary_expression\n",
    "from simtissue.utils import get_dict_coord_map"
   ],
   "outputs": []
  },
  {
   "cell_type": "markdown",
   "metadata": {},
   "source": [
    "### 1° Generate checkerboard \n",
    "The first step is to generate a cells as checkerboard of the needed size"
   ]
  },
  {
   "cell_type": "code",
   "execution_count": 15,
   "metadata": {},
   "source": [
    "mask_cyto = checkerboard_mask(shape = [1, 1000, 1100],\n",
    "                         cube_square_size = 100)\n",
    "plot_contour(mask_cyto = mask_cyto, figsize = (5,5))"
   ],
   "outputs": []
  },
  {
   "cell_type": "markdown",
   "metadata": {},
   "source": [
    "### 2) Add nuclei in the checker board\n",
    "The number and position of the cell without nuclei can be parametrize with argument ``list_nuclei`` in ``add_sphere_nuclei``"
   ]
  },
  {
   "cell_type": "code",
   "execution_count": 16,
   "metadata": {
    "scrolled": false
   },
   "source": [
    "\n",
    "## leave 20% of the cells without cytoplasm\n",
    "list_nuclei_unique = np.unique(mask_cyto)\n",
    "index  = sample_without_replacement(len(list_nuclei_unique), int(0.80 * len(list_nuclei_unique)))\n",
    "list_nuclei = list_nuclei_unique[index]\n",
    "mask_nuclei = add_sphere_nuclei(mask_cyto = mask_cyto, \n",
    "                     cube_square_size  = 100,\n",
    "                     nuclei_radius = 25,\n",
    "                     list_nuclei = list_nuclei)\n",
    "\n",
    "plot_contour(mask_cyto = mask_cyto, mask_nuclei = mask_nuclei, figsize = (5,5))\n"
   ],
   "outputs": []
  },
  {
   "cell_type": "markdown",
   "metadata": {},
   "source": [
    "### 3) Simulation of arbitrary cell expression\n",
    "\n",
    "-we  simulate a cell-expression matrix containing the expression profile we want to map in the checkerboard"
   ]
  },
  {
   "cell_type": "code",
   "execution_count": 17,
   "metadata": {},
   "source": [
    "### generate_anndata\n",
    "\n",
    "## RNA profile of each cell type \n",
    "genes_list_to_simulate = ['A', 'B']\n",
    "dict_profile = {'typeA': [50, 0],\n",
    "                  'typeB': [0, 200]\n",
    "             }\n",
    "\n",
    "## cell type of each cell index\n",
    "cell_index_typeA = [i for i in range(1, 111) if i % 2 == 0]\n",
    "cell_index_typeB = [i for i in range(1, 111) if i % 2 == 1]\n",
    "\n",
    "\n",
    "\n",
    "cell_type_distribution={'typeA': cell_index_typeA,\n",
    "                        'typeB': cell_index_typeB,}\n",
    "\n",
    "image_name = \"image0\"\n",
    "\n",
    "## get the anndata with simulate_arbritrary_expression()\n",
    "anndata = simulate_arbritrary_expression(dict_profile,\n",
    "                cell_type_distribution,\n",
    "                mask_cyto = mask_cyto,\n",
    "                genes_list_to_simulate = ['A', 'B'],\n",
    "                image_name = \"image0\"\n",
    "        )\n",
    "anndata"
   ],
   "outputs": []
  },
  {
   "cell_type": "markdown",
   "metadata": {},
   "source": [
    "### Plot of final simulation"
   ]
  },
  {
   "cell_type": "code",
   "execution_count": 18,
   "metadata": {
    "scrolled": false
   },
   "source": [
    "plot_contour(mask_cyto = mask_cyto,\n",
    "                 mask_nuclei = mask_nuclei,\n",
    "                 figsize = (15,15),\n",
    "                anndata = anndata,\n",
    "                dico_color = {\"A\" : \"r\", \"B\": \"b\"},\n",
    "                spot_size = 3)"
   ],
   "outputs": []
  },
  {
   "cell_type": "markdown",
   "metadata": {},
   "source": [
    "### Save and load simulation"
   ]
  },
  {
   "cell_type": "code",
   "execution_count": 19,
   "metadata": {},
   "source": [
    "import pickle\n",
    "from pathlib import Path\n",
    "filename = \"simulated_image.h5ad\"\n",
    "with open(filename, 'wb') as handle:\n",
    "    pickle.dump(anndata, handle, -1)"
   ],
   "outputs": []
  },
  {
   "cell_type": "code",
   "execution_count": 20,
   "metadata": {},
   "source": [
    "file_pi2 = open(filename, 'rb')\n",
    "anndata = pickle.load(file_pi2)\n",
    "anndata"
   ],
   "outputs": []
  },
  {
   "cell_type": "code",
   "execution_count": null,
   "metadata": {},
   "source": [],
   "outputs": []
  }
 ],
 "metadata": {
  "kernelspec": {
   "display_name": "simulation",
   "language": "python",
   "name": "simulation"
  },
  "language_info": {
   "codemirror_mode": {
    "name": "ipython",
    "version": 3
   },
   "file_extension": ".py",
   "mimetype": "text/x-python",
   "name": "python",
   "nbconvert_exporter": "python",
   "pygments_lexer": "ipython3",
   "version": "3.8.8"
  }
 },
 "nbformat": 4,
 "nbformat_minor": 4
}
