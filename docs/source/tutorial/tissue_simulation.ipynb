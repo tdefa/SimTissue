{
 "cells": [
  {
   "cell_type": "markdown",
   "metadata": {},
   "source": [
    "## Tutorial for tissue simulation with transcriptomic profile sample from scRNAseq data"
   ]
  },
  {
   "cell_type": "markdown",
   "metadata": {},
   "source": [
    "### download test data at :\n",
    "https://cloud.minesparis.psl.eu/index.php/s/ZXkeiJTzD6KrjRX"
   ]
  },
  {
   "cell_type": "code",
   "execution_count": 1,
   "metadata": {},
   "outputs": [],
   "source": [
    "import sys\n",
    "sys.path = ['/snap/pycharm-professional/387/plugins/python/helpers/pydev',\n",
    " '/snap/pycharm-professional/387/plugins/python/helpers/third_party/thriftpy',\n",
    " '/snap/pycharm-professional/387/plugins/python/helpers/pydev',\n",
    " '/snap/pycharm-professional/387/plugins/python/helpers/pycharm_display',\n",
    " '/home/tom/anaconda3/envs/simulation/lib/python38.zip',\n",
    " '/home/tom/anaconda3/envs/simulation/lib/python3.8',\n",
    " '/home/tom/anaconda3/envs/simulation/lib/python3.8/lib-dynload',\n",
    " '',\n",
    " '/home/tom/.local/lib/python3.8/site-packages',\n",
    " '/home/tom/Bureau/phd/st_seg/ssam_merfish/ssam_pkg',\n",
    " '/home/tom/anaconda3/envs/simulation/lib/python3.8/site-packages',\n",
    " '/snap/pycharm-professional/387/plugins/python/helpers/pycharm_matplotlib_backend',\n",
    " '/home/tom/Bureau/phd/simulation/simulation_pkg',]"
   ]
  },
  {
   "cell_type": "code",
   "execution_count": 2,
   "metadata": {},
   "outputs": [],
   "source": [
    "from pathlib import Path\n",
    "import tifffile\n",
    "import numpy as np\n",
    "from simtissue.arbitrary_shape import  generate_ellipse\n",
    "import time\n",
    "import random\n",
    "from tqdm import tqdm\n",
    "from scipy import ndimage as ndi\n",
    "from skimage.segmentation import watershed\n",
    "from matplotlib import pyplot as plt\n",
    "from scipy import sparse\n",
    "import pandas\n",
    "import scanpy\n",
    "\n",
    "from simtissue.control_expression import filter_simulation, sim_spots_from_ref_anndata\n",
    "from simtissue.tissue import simulate_single_cell_mask\n",
    "\n",
    "\n",
    "### LIST OF GENE TO SIMULATE\n",
    "selected_gene = ['Atp6v0d2', 'Abcg1',# AM\n",
    "             'Rtkn2',  'Igfbp2', #AT1\n",
    "             'Sftpc','Cxcl15', #AT2,\n",
    "            'Cd79a', #B_cells\n",
    "             'Ms4a2', 'Fcer1a', #Basophils\n",
    "             'Ccdc153', #Ciliated\n",
    "             'Scgb3a2', 'Scgb1a1',#Club\n",
    "             'Cst3',#DC\n",
    "             'Cdh5', 'Clec14a',  #EC\n",
    "             'Inmt', 'Pcolce2', # Fibroblasts\n",
    "             'C1qc', 'C1qa', 'C1qb', # 'C3ar1', #IM\n",
    "             'Upk3b',# Mesotheliocytes\n",
    "             'Ifitm6','Plac8',# Monocytes\n",
    "            'Ms4a4b', 'Ccl5', 'Hcst', # NK_T_cells\n",
    "             'Gzma', 'Ncr1',# NK_cells\n",
    "             'S100a9',# Neutrophils\n",
    "             'Mmrn1',#Platelets\n",
    "           'Acta2','Myh11', # SMC\n",
    "             'Cd3g', 'Cd3d' #T_cells\n",
    "             ]\n",
    "\n",
    "ref_anndata = scanpy.read('/media/tom/T7/simulation/test_set_simulation/test_anndata.h5ad')\n"
   ]
  },
  {
   "cell_type": "markdown",
   "metadata": {},
   "source": [
    "## 1) Generate the cytoplasm with ``simulate_single_cell_mask()``\n",
    "Individual cytoplasms are defined by growing cells from segmented nuclei. Each cell grows at a random speed to add irregularity to the cell size. the random speed are sample from the parameter ``intervals_speed`` in ``simulate_single_cell_mask()``\n"
   ]
  },
  {
   "cell_type": "code",
   "execution_count": null,
   "metadata": {
    "scrolled": true
   },
   "outputs": [
    {
     "name": "stdout",
     "output_type": "stream",
     "text": [
      "/media/tom/T7/simulation/test_set_simulation/mask_nuclei/07_CtrlNI_Pdgfra-Cy3_Serpine1-Cy5_004.tiff\n"
     ]
    },
    {
     "name": "stderr",
     "output_type": "stream",
     "text": [
      " 29%|██████████████████████████████████████████████████████████████████████████████████████████████████████████████████████████████▌                                                                                                                                                                                                                                                                                                                     | 9/31 [00:17<00:40,  1.82s/it]"
     ]
    }
   ],
   "source": [
    "path_folder_mask_nuclei = \"/media/tom/T7/simulation/test_set_simulation/mask_nuclei\"\n",
    "path_folder_cytoplasm = \"/media/tom/T7/simulation/test_set_simulation/cytoplasm_mask\"\n",
    "path_save_ind_cyto = \"/media/tom/T7/simulation/test_set_simulation/individual_cytoplasm\"\n",
    "\n",
    "\n",
    "for path_mask_nuclei in Path(path_folder_mask_nuclei).glob('*.tiff'):\n",
    "    print(path_mask_nuclei)\n",
    "    ##load nuclei\n",
    "    mask_nuclei = tifffile.imread(path_mask_nuclei)[20:35, 200:1000, :1200]\n",
    "    ## load cytoplasm\n",
    "    mask_cyto = np.load(Path(path_folder_cytoplasm) / \n",
    "                                (path_mask_nuclei.name + \".npy\"))[20:35, 200:1000, :1200]  \n",
    "    ## \n",
    "    ind_cyto = simulate_single_cell_mask(\n",
    "                            mask_nuclei,\n",
    "                            cyto = mask_cyto,\n",
    "                            scale=np.array([3, 1.03, 1.03]),\n",
    "                            intervals_speed=[[0.5, 0.8], [1.3, 4]],\n",
    "                            median_kernel=7,\n",
    "                            random_seed = None\n",
    "                                      )\n",
    "    np.save(Path(path_save_ind_cyto) / path_mask_nuclei.stem, ind_cyto)"
   ]
  },
  {
   "cell_type": "markdown",
   "metadata": {},
   "source": [
    "## 2) (optional) Remove a percentage of nuclei with  ``remove_nuclei``\n",
    " Removed nuclei from arbitrary cell to mimick experimental data where many cells are separated from their nuclei during the imaging of the tissue"
   ]
  },
  {
   "cell_type": "code",
   "execution_count": null,
   "metadata": {},
   "outputs": [],
   "source": [
    "path_folder_mask_nuclei_remove = \"/media/tom/T7/simulation/test_set_simulation/mask_nuclei\"\n",
    "Path(path_folder_mask_nuclei_remove, exist_ok=True)\n",
    "\n",
    "from simtissue.arbitrary_shape import remove_nuclei\n",
    "for path_mask_nuclei in Path(path_folder_mask_nuclei).glob('*.tiff'):\n",
    "    print(path_mask_nuclei)\n",
    "    print(path_mask_nuclei.name + \".npy\")\n",
    "    ##load nuclei\n",
    "    mask_nuclei = tifffile.imread(path_mask_nuclei)[20:35, 200:1000, :1200]  \n",
    "    new_mask_nuclei = remove_nuclei(\n",
    "        mask_nuclei,\n",
    "        percent_to_remove = 0.1,\n",
    "        list_nuc_to_keep = None)\n",
    "    np.save(Path(path_folder_mask_nuclei_remove) / path_mask_nuclei.stem, ind_cyto)"
   ]
  },
  {
   "cell_type": "markdown",
   "metadata": {},
   "source": [
    "## Simulate transcriptomic profile  with ``sim_spots_from_ref_anndata()``\n",
    "When drawing a profile from scRNA-seq, we sample for each simulated cell an expression profile of a single cell from scRNA-seq, then multiply the number of RNAs by a fix factor (``scaling_factor`` in ``sim_spots_from_ref_anndata``)"
   ]
  },
  {
   "cell_type": "code",
   "execution_count": null,
   "metadata": {
    "scrolled": false
   },
   "outputs": [],
   "source": [
    "path_to_save_anndata = \"/media/tom/T7/simulation/test_set_simulation/anndata/\"\n",
    "path_to_save_df = \"/media/tom/T7/simulation/test_set_simulation/dataframe/\"\n",
    "list_anndata = []\n",
    "\n",
    "for path_ic in Path(path_save_ind_cyto).glob(\"*.npy\"):\n",
    "    \n",
    "    cell_mask = np.load(path_ic)\n",
    "    \n",
    "    anndata, df_spots = sim_spots_from_ref_anndata(\n",
    "\n",
    "        ref_anndata = ref_anndata,\n",
    "        cell_mask = cell_mask,\n",
    "        image_name = 'test', \n",
    "        annotation_column = \"cell_ID\",\n",
    "        selected_gene = selected_gene,\n",
    "        remove_neighbors = True,\n",
    "        max_dist = 0.3,\n",
    "        dict_scale = {\"x\":0.103, 'y':0.103, \"z\":0.300},\n",
    "        scaling_factor=3\n",
    "        )\n",
    "    \n",
    "    list_anndata.append(anndata)\n",
    "        \n",
    "    anndata.write_h5ad(str(Path(path_to_save_anndata) /(path_ic.stem + '.h5ad')))\n",
    "    df_spots.to_csv(Path(path_to_save_df) /(path_ic.stem + '.npy'))                   "
   ]
  },
  {
   "cell_type": "markdown",
   "metadata": {},
   "source": [
    "### Plot final simulation "
   ]
  },
  {
   "cell_type": "code",
   "execution_count": null,
   "metadata": {
    "scrolled": false
   },
   "outputs": [],
   "source": [
    "from matplotlib import colors\n",
    "import pandas as pd\n",
    "df_spots = pd.read_csv(Path(path_to_save_df) /(path_ic.stem + '.npy'))\n",
    "mask_nuclei = tifffile.imread(Path(path_folder_mask_nuclei) / (path_ic.stem + '.tiff'))[20:35, 200:1000, :1200]  \n",
    "mip_nuclei = np.amax(mask_nuclei, 0)\n",
    "\n",
    "dico_spots_pos = {}\n",
    "for gene in selected_gene:\n",
    "    y = df_spots[df_spots[\"gene\"] == gene][\"y\"]\n",
    "    x = df_spots[df_spots[\"gene\"] == gene][\"x\"]\n",
    "\n",
    "    dico_spots_pos[gene] = list(zip( y, x))\n",
    "    \n",
    "\n",
    "fig, ax = plt.subplots(figsize = (15,15))\n",
    "ax.imshow(mip_nuclei > 0, cmap='gist_gray', alpha = 0.8)\n",
    "ax.imshow(mip_nuclei, cmap='gist_gray', alpha = 0.8)\n",
    "for gene in dico_spots_pos.keys():\n",
    "    if len(dico_spots_pos[gene]) == 0:\n",
    "        continue\n",
    "    ax.scatter(np.array(dico_spots_pos[gene])[:,1], np.array(dico_spots_pos[gene])[:,0], cmap=\"Pastel1\",  #  gene_color_dico[gene],   #'#%02X%02X%02X' % (r(),r(),r()),\n",
    "               s=1)\n",
    "plt.show()"
   ]
  },
  {
   "cell_type": "code",
   "execution_count": null,
   "metadata": {},
   "outputs": [],
   "source": []
  }
 ],
 "metadata": {
  "kernelspec": {
   "display_name": "simulation",
   "language": "python",
   "name": "simulation"
  },
  "language_info": {
   "codemirror_mode": {
    "name": "ipython",
    "version": 3
   },
   "file_extension": ".py",
   "mimetype": "text/x-python",
   "name": "python",
   "nbconvert_exporter": "python",
   "pygments_lexer": "ipython3",
   "version": "3.8.8"
  }
 },
 "nbformat": 4,
 "nbformat_minor": 4
}
