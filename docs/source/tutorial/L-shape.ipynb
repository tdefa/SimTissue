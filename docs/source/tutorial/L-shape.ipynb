{
 "cells": [
  {
   "cell_type": "code",
   "execution_count": 5,
   "id": "bf70a149",
   "metadata": {},
   "source": [
    "import sys\n",
    "\n",
    "import numpy as np\n",
    "from scipy import ndimage as ndi\n",
    "import skimage\n",
    "from sklearn.utils.random import sample_without_replacement\n",
    "import sys\n",
    "from scipy.sparse import csr_array\n",
    "import matplotlib\n",
    "#matplotlib.use('Qt5Agg')\n",
    "from matplotlib import pyplot as plt"
   ],
   "outputs": []
  },
  {
   "cell_type": "code",
   "execution_count": 6,
   "id": "4b358cc9",
   "metadata": {},
   "source": [
    "import simtissue\n",
    "from simtissue.arbitrary_shape import checkerboard_mask, generate_ellipse, add_sphere_nuclei, elbow_grid_cube, elbow_grid\n",
    "from simtissue.plot import plot_contour\n",
    "from simtissue.control_expression import create_fix_profile, simulate_arbritrary_expression\n",
    "from simtissue.utils import get_dict_coord_map"
   ],
   "outputs": []
  },
  {
   "cell_type": "code",
   "execution_count": 7,
   "id": "ef3b27b7",
   "metadata": {
    "scrolled": true
   },
   "source": [
    "mask_cyto, mask_nuclei =  elbow_grid_cube(    shape = [1, 1800, 1600],\n",
    "    step = 100, \n",
    "        random_nuc_range={'min_x': -25,\n",
    "        'max_x': 25,\n",
    "        'min_y': 0,\n",
    "        'max_y': 0,\n",
    "        'min_z': 0,\n",
    "        'max_z': 0} )"
   ],
   "outputs": []
  },
  {
   "cell_type": "code",
   "execution_count": 8,
   "id": "e14e1a6e",
   "metadata": {},
   "source": [
    "plot_contour(mask_cyto = mask_cyto, mask_nuclei = mask_nuclei, figsize = (10,10))\n"
   ],
   "outputs": []
  },
  {
   "cell_type": "code",
   "execution_count": 10,
   "id": "a5eb5abc",
   "metadata": {},
   "source": [
    "### generate_anndata\n",
    "\n",
    "\n",
    "cell_index_typeA = [i for i in range(1, 145) if i % 2 == 0]\n",
    "cell_index_typeB = [i for i in range(1, 145) if i % 2 == 1]\n",
    "dict_profile = {'typeA': [50, 0],\n",
    "                  'typeB': [0, 200]\n",
    "             }\n",
    "cell_type_distribution={'typeA': cell_index_typeA,\n",
    "                        'typeB': cell_index_typeB,}\n",
    "genes_list_to_simulate = ['A', 'B']\n",
    "image_name = \"image0\"\n",
    "anndata = simulate_arbritrary_expression(dict_profile,\n",
    "                cell_type_distribution,\n",
    "                mask_cyto = mask_cyto,\n",
    "        genes_list_to_simulate = ['A', 'B'],\n",
    "        image_name = \"image0\"\n",
    "        )\n",
    "anndata"
   ],
   "outputs": []
  },
  {
   "cell_type": "code",
   "execution_count": 11,
   "id": "0f5661ee",
   "metadata": {},
   "source": [
    "plot_contour(mask_cyto = mask_cyto,\n",
    "                 mask_nuclei = mask_nuclei,\n",
    "                 figsize = (15,15),\n",
    "                anndata = anndata,\n",
    "                dico_color = {\"A\" : \"r\", \"B\": \"b\"},\n",
    "                spot_size = 3)"
   ],
   "outputs": []
  },
  {
   "cell_type": "code",
   "execution_count": null,
   "id": "ee305aea",
   "metadata": {},
   "source": [],
   "outputs": []
  }
 ],
 "metadata": {
  "kernelspec": {
   "display_name": "simulation",
   "language": "python",
   "name": "simulation"
  },
  "language_info": {
   "codemirror_mode": {
    "name": "ipython",
    "version": 3
   },
   "file_extension": ".py",
   "mimetype": "text/x-python",
   "name": "python",
   "nbconvert_exporter": "python",
   "pygments_lexer": "ipython3",
   "version": "3.8.8"
  }
 },
 "nbformat": 4,
 "nbformat_minor": 5
}
